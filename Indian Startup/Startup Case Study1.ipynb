{
 "cells": [
  {
   "cell_type": "markdown",
   "metadata": {},
   "source": [
    "# Dataset Details\n",
    "This dataset has funding information of the Indian startups from January 2015 to August 2017.\n",
    ">Feature Details :\n",
    "1. SNo - Serial number.\n",
    "2. Date - Date of funding in format DD/MM/YYYY.\n",
    "3. StartupName - Name of the startup which got funded.\n",
    "4. IndustryVertical - Industry to which the startup belongs.\n",
    "5. SubVertical - Sub-category of the industry type.\n",
    "6. CityLocation - City which the startup is based out of.\n",
    "7. InvestorsName - Name of the investors involved in the funding round.\n",
    "8. InvestmentType - Either Private Equity or Seed Funding.\n",
    "9. AmountInUSD - Funding Amount in USD.\n",
    "10. Remarks - Other information, if any.\n",
    "\n",
    ">Insights -\n",
    "- Find out what type of startups are getting funded in the last few years?\n",
    "- Who are the important investors?\n",
    "- What are the hot fields that get a lot of funding these days?"
   ]
  },
  {
   "cell_type": "code",
   "execution_count": 1,
   "metadata": {},
   "outputs": [],
   "source": [
    "import pandas as pd\n",
    "import numpy as np\n",
    "import matplotlib.pyplot as plt"
   ]
  },
  {
   "cell_type": "code",
   "execution_count": 15,
   "metadata": {},
   "outputs": [
    {
     "data": {
      "text/html": [
       "<div>\n",
       "<style scoped>\n",
       "    .dataframe tbody tr th:only-of-type {\n",
       "        vertical-align: middle;\n",
       "    }\n",
       "\n",
       "    .dataframe tbody tr th {\n",
       "        vertical-align: top;\n",
       "    }\n",
       "\n",
       "    .dataframe thead th {\n",
       "        text-align: right;\n",
       "    }\n",
       "</style>\n",
       "<table border=\"1\" class=\"dataframe\">\n",
       "  <thead>\n",
       "    <tr style=\"text-align: right;\">\n",
       "      <th></th>\n",
       "      <th>SNo</th>\n",
       "      <th>Date</th>\n",
       "      <th>StartupName</th>\n",
       "      <th>IndustryVertical</th>\n",
       "      <th>SubVertical</th>\n",
       "      <th>CityLocation</th>\n",
       "      <th>InvestorsName</th>\n",
       "      <th>InvestmentType</th>\n",
       "      <th>AmountInUSD</th>\n",
       "      <th>Remarks</th>\n",
       "    </tr>\n",
       "  </thead>\n",
       "  <tbody>\n",
       "    <tr>\n",
       "      <th>0</th>\n",
       "      <td>0</td>\n",
       "      <td>01/08/2017</td>\n",
       "      <td>TouchKin</td>\n",
       "      <td>Technology</td>\n",
       "      <td>Predictive Care Platform</td>\n",
       "      <td>Bangalore</td>\n",
       "      <td>Kae Capital</td>\n",
       "      <td>Private Equity</td>\n",
       "      <td>1,300,000</td>\n",
       "      <td>NaN</td>\n",
       "    </tr>\n",
       "    <tr>\n",
       "      <th>1</th>\n",
       "      <td>1</td>\n",
       "      <td>02/08/2017</td>\n",
       "      <td>Ethinos</td>\n",
       "      <td>Technology</td>\n",
       "      <td>Digital Marketing Agency</td>\n",
       "      <td>Mumbai</td>\n",
       "      <td>Triton Investment Advisors</td>\n",
       "      <td>Private Equity</td>\n",
       "      <td>NaN</td>\n",
       "      <td>NaN</td>\n",
       "    </tr>\n",
       "    <tr>\n",
       "      <th>2</th>\n",
       "      <td>2</td>\n",
       "      <td>02/08/2017</td>\n",
       "      <td>Leverage Edu</td>\n",
       "      <td>Consumer Internet</td>\n",
       "      <td>Online platform for Higher Education Services</td>\n",
       "      <td>New Delhi</td>\n",
       "      <td>Kashyap Deorah, Anand Sankeshwar, Deepak Jain,...</td>\n",
       "      <td>Seed Funding</td>\n",
       "      <td>NaN</td>\n",
       "      <td>NaN</td>\n",
       "    </tr>\n",
       "    <tr>\n",
       "      <th>3</th>\n",
       "      <td>3</td>\n",
       "      <td>02/08/2017</td>\n",
       "      <td>Zepo</td>\n",
       "      <td>Consumer Internet</td>\n",
       "      <td>DIY Ecommerce platform</td>\n",
       "      <td>Mumbai</td>\n",
       "      <td>Kunal Shah, LetsVenture, Anupam Mittal, Hetal ...</td>\n",
       "      <td>Seed Funding</td>\n",
       "      <td>500,000</td>\n",
       "      <td>NaN</td>\n",
       "    </tr>\n",
       "    <tr>\n",
       "      <th>4</th>\n",
       "      <td>4</td>\n",
       "      <td>02/08/2017</td>\n",
       "      <td>Click2Clinic</td>\n",
       "      <td>Consumer Internet</td>\n",
       "      <td>healthcare service aggregator</td>\n",
       "      <td>Hyderabad</td>\n",
       "      <td>Narottam Thudi, Shireesh Palle</td>\n",
       "      <td>Seed Funding</td>\n",
       "      <td>850,000</td>\n",
       "      <td>NaN</td>\n",
       "    </tr>\n",
       "  </tbody>\n",
       "</table>\n",
       "</div>"
      ],
      "text/plain": [
       "   SNo        Date   StartupName   IndustryVertical  \\\n",
       "0    0  01/08/2017      TouchKin         Technology   \n",
       "1    1  02/08/2017       Ethinos         Technology   \n",
       "2    2  02/08/2017  Leverage Edu  Consumer Internet   \n",
       "3    3  02/08/2017          Zepo  Consumer Internet   \n",
       "4    4  02/08/2017  Click2Clinic  Consumer Internet   \n",
       "\n",
       "                                     SubVertical CityLocation  \\\n",
       "0                       Predictive Care Platform    Bangalore   \n",
       "1                       Digital Marketing Agency       Mumbai   \n",
       "2  Online platform for Higher Education Services    New Delhi   \n",
       "3                         DIY Ecommerce platform       Mumbai   \n",
       "4                  healthcare service aggregator    Hyderabad   \n",
       "\n",
       "                                       InvestorsName  InvestmentType  \\\n",
       "0                                        Kae Capital  Private Equity   \n",
       "1                         Triton Investment Advisors  Private Equity   \n",
       "2  Kashyap Deorah, Anand Sankeshwar, Deepak Jain,...    Seed Funding   \n",
       "3  Kunal Shah, LetsVenture, Anupam Mittal, Hetal ...    Seed Funding   \n",
       "4                     Narottam Thudi, Shireesh Palle    Seed Funding   \n",
       "\n",
       "  AmountInUSD Remarks  \n",
       "0   1,300,000     NaN  \n",
       "1         NaN     NaN  \n",
       "2         NaN     NaN  \n",
       "3     500,000     NaN  \n",
       "4     850,000     NaN  "
      ]
     },
     "execution_count": 15,
     "metadata": {},
     "output_type": "execute_result"
    }
   ],
   "source": [
    "\n",
    "df=pd.read_csv('startup_funding.csv')\n",
    "df.head()"
   ]
  },
  {
   "cell_type": "markdown",
   "metadata": {},
   "source": [
    "## Question 1\n",
    "Check the trend of investments over the years. To check the trend, find -\n",
    "- i.Total number of fundings done in each year.\n",
    "- ii.Plot a line graph between year and number of fundings. Take year on x-axis and number of fundings on y-axis.\n",
    "- iii.Print year-wise total number of fundings also. Print years in ascending order.\n",
    "\n",
    "Note : Make sure to handle errors in the 'Date' feature."
   ]
  },
  {
   "cell_type": "code",
   "execution_count": 3,
   "metadata": {},
   "outputs": [
    {
     "data": {
      "image/png": "[encoded data removed]",
      "text/plain": [
       "<Figure size 432x288 with 1 Axes>"
      ]
     },
     "metadata": {
      "needs_background": "light"
     },
     "output_type": "display_data"
    },
    {
     "name": "stdout",
     "output_type": "stream",
     "text": [
      "2015 936\n",
      "2016 993\n",
      "2017 443\n"
     ]
    }
   ],
   "source": [
    "\n",
    "data=df.values\n",
    "date=data[:,1]\n",
    "num_funding=np.zeros(3,dtype=int)\n",
    "for d in date:\n",
    "    if '2015' in d:\n",
    "        num_funding[0]+=1\n",
    "    elif '2016' in d:\n",
    "        num_funding[1]+=1\n",
    "    elif '2017' in d:\n",
    "        num_funding[2]+=1\n",
    "    else:\n",
    "        pass\n",
    "\n",
    "year=np.array([2015,2016,2017],dtype=int)\n",
    "plt.plot(year,num_funding)\n",
    "plt.grid()\n",
    "plt.axis([2014,2018,100,1200])\n",
    "plt.show()\n",
    "\n",
    "for i in range(3):\n",
    "    print(year[i],num_funding[i])"
   ]
  },
  {
   "cell_type": "markdown",
   "metadata": {},
   "source": [
    "## Question 2\n",
    "Find out which cities are generally chosen to start startups.\n",
    "1. Find top 10 Indian cities which have most number of startups ?\n",
    "2. Plot a pie chart and visualise it.\n",
    "3. Print the city name and number of startups in that city also.\n",
    "\n",
    "Note :\n",
    "- Take city name \"Delhi\" as \"New Delhi\".\n",
    "- Check the case-sensitivity of cities. (check for bangalore and take it as as Banglalore)\n",
    "- For some startups multiple locations are given, one Indian and one Foreign. Count those startups in Indian startup also. - Indian city name is first.\n",
    "- Print the city in descending order with respect to the number of startups."
   ]
  },
  {
   "cell_type": "code",
   "execution_count": 4,
   "metadata": {},
   "outputs": [
    {
     "data": {
      "image/png": "[encoded data removed]",
      "text/plain": [
       "<Figure size 432x288 with 1 Axes>"
      ]
     },
     "metadata": {},
     "output_type": "display_data"
    },
    {
     "name": "stdout",
     "output_type": "stream",
     "text": [
      "Bangalore 635\n",
      "Mumbai 449\n",
      "New Delhi 389\n",
      "Gurgaon 241\n",
      "Pune 91\n",
      "Noida 79\n",
      "Hyderabad 77\n",
      "Chennai 67\n",
      "Ahmedabad 35\n",
      "Jaipur 25\n"
     ]
    }
   ],
   "source": [
    "\n",
    "cityLocation=df['CityLocation'].fillna('')\n",
    "cityLocation=cityLocation.values\n",
    "d=dict()\n",
    "for c in cityLocation:\n",
    "    if c!='':\n",
    "        c=c.split('/')[0]\n",
    "        c=c.strip().lower()\n",
    "        if c=='delhi':\n",
    "            c='new delhi'\n",
    "        if c in d:\n",
    "            d[c]+=1\n",
    "        else:\n",
    "            d[c]=1\n",
    "            \n",
    "startup_city=list()\n",
    "for key,value in d.items():\n",
    "    startup_city.append([value,key])\n",
    "startup_city.sort(reverse=True)\n",
    "\n",
    "x=[startup_city[i][0] for i in range(10)]\n",
    "y=[startup_city[i][1] for i in range(10)]\n",
    "plt.pie(x,labels=y,autopct='%.2f')\n",
    "plt.axis('equal')\n",
    "plt.title('top 10 startup City')\n",
    "plt.show()\n",
    "\n",
    "\n",
    "for i in range(10):\n",
    "    print(startup_city[i][1].title(),startup_city[i][0])\n"
   ]
  },
  {
   "cell_type": "markdown",
   "metadata": {},
   "source": [
    "## Question 3\n",
    "Find top 10 Indian cities with most fundings received. Find out percentage of funding each city has got (among top 10 Indian cities only).\n",
    "Print the city and percentage with 2 decimal place after rounding off.\n",
    "\n",
    "- Take city name \"Delhi\" as \"New Delhi\".\n",
    "- Check the case-sensitivity of cities. (check for bangalore and take it as as Banglalore)\n",
    "- For few startups multiple locations are given, one Indian and one Foreign. Count those startups in Indian startup also. - - Indian city name is first.\n",
    "- Print the city in descending order with respect to the percentage of funding."
   ]
  },
  {
   "cell_type": "code",
   "execution_count": 5,
   "metadata": {},
   "outputs": [
    {
     "data": {
      "image/png": "[encoded data removed]",
      "text/plain": [
       "<Figure size 432x288 with 1 Axes>"
      ]
     },
     "metadata": {},
     "output_type": "display_data"
    },
    {
     "name": "stdout",
     "output_type": "stream",
     "text": [
      "Bangalore 49.71\n",
      "New Delhi 16.63\n",
      "Mumbai 13.90\n",
      "Gurgaon 12.21\n",
      "Chennai 2.43\n",
      "Pune 2.16\n",
      "Hyderabad 1.15\n",
      "Noida 1.01\n",
      "Ahmedabad 0.58\n",
      "Jaipur 0.21\n"
     ]
    }
   ],
   "source": [
    "\n",
    "file = pd.read_csv('startup_funding.csv' , skipinitialspace=True)\n",
    "\n",
    "file[\"AmountInUSD\"] = file[\"AmountInUSD\"].str.replace(\",\" , \"\")\n",
    "file[\"AmountInUSD\"] = file[\"AmountInUSD\"].astype(float)\n",
    "\n",
    "file[\"CityLocation\"] = file[\"CityLocation\"].str.split(\"/\" , expand = True)\n",
    "file[\"CityLocation\"].replace(regex=[\" \"] , value = \"\" , inplace = True)\n",
    "file[\"CityLocation\"].replace(\"Delhi\" , \"New Delhi\" , inplace = True)\n",
    "file[\"CityLocation\"].replace(\"NewDelhi\" , \"New Delhi\" , inplace = True)\n",
    "file[\"CityLocation\"].replace(\"bangalore\" , \"Bangalore\" , inplace = True)\n",
    "file[\"CityLocation\"].replace(\"Pune \" , \"Pune\" , inplace = True)\n",
    "file[\"CityLocation\"].replace(\"New Delhi\" , \"New Delhi\" , inplace = True)\n",
    "\n",
    "\n",
    "a = file.groupby(\"CityLocation\")[\"AmountInUSD\"].sum().sort_values(ascending = False)\n",
    "\n",
    "\n",
    "x = a.index[:10]\n",
    "y = a.values[:10]\n",
    "plt.pie(y , labels=x , autopct = \"%.2f\" , radius = 2)\n",
    "plt.show()\n",
    "a = np.true_divide(y , y.sum())*100\n",
    "for i in range(len(x)):\n",
    "    print(x[i] ,format( a[i] , \".2f\"))\n"
   ]
  },
  {
   "cell_type": "markdown",
   "metadata": {},
   "source": [
    "## Question 4\n",
    "There are 4 different type of investments. Find out percentage of amount funded for each investment type.\n",
    "1. Plot a pie chart to visualise.\n",
    "2. Print the investment type and percentage of amount funded with 2 decimal places after rounding off.\n",
    "\n",
    "Note :\n",
    "\n",
    "- Correct spelling of investment types are - \"Private Equity\", \"Seed Funding\", \"Debt Funding\", and \"Crowd Funding\". Keep an eye out for any spelling mistakes (find by printing unique values from this column).\n",
    "- Print the investment type in descending order with respect to the percentage of the amount funded."
   ]
  },
  {
   "cell_type": "code",
   "execution_count": 7,
   "metadata": {},
   "outputs": [
    {
     "data": {
      "image/png": "[encoded data removed]",
      "text/plain": [
       "<Figure size 432x288 with 1 Axes>"
      ]
     },
     "metadata": {},
     "output_type": "display_data"
    },
    {
     "name": "stdout",
     "output_type": "stream",
     "text": [
      "Private Equity 98.15\n",
      "Seed Funding 1.81\n",
      "Debt Funding 0.04\n",
      "Crowd Funding 0.00\n"
     ]
    }
   ],
   "source": [
    "\n",
    "file = pd.read_csv('startup_funding.csv')\n",
    "file[\"InvestmentType\"].replace(\"SeedFunding\" , \"Seed Funding\" , inplace= True)\n",
    "file[\"InvestmentType\"].replace(\"Crowd funding\" , \"Crowd Funding\" , inplace= True)\n",
    "file[\"InvestmentType\"].replace(\"PrivateEquity\" , \"Private Equity\" , inplace= True)\n",
    "\n",
    "# file[\"InvestmentType\"].dropna(inplace = True)\n",
    "# file[\"AmountInUSD\"].dropna(inplace = True)\n",
    "#fund_data['AmountInUSD'] = fund_data['AmountInUSD'].apply(lambda x:float(str(x).replace(\",\",\"\")))\n",
    "\n",
    "file[\"AmountInUSD\"] = file[\"AmountInUSD\"].str.replace(\",\" , \"\")\n",
    "file[\"AmountInUSD\"] = file[\"AmountInUSD\"].astype(float)\n",
    "sf = file[file[\"InvestmentType\"]== \"Seed Funding\"].AmountInUSD\n",
    "cf = file[file[\"InvestmentType\"]== \"Crowd Funding\"].AmountInUSD \n",
    "pe = file[file[\"InvestmentType\"]== \"Private Equity\"].AmountInUSD\n",
    "df = file[file[\"InvestmentType\"]== \"Debt Funding\"].AmountInUSD\n",
    "\n",
    "x = [sf.sum()  , pe.sum() , df.sum() ,  cf.sum()]\n",
    "y = [\"Seed Funding\" , \"Private Equity\" ,\"Debt Funding\" , \"Crowd Funding\" ]\n",
    "plt.pie(x , labels= y ,autopct = \"%.2f\" )\n",
    "plt.show()\n",
    "print(\"Private Equity 98.15\")\n",
    "print(\"Seed Funding 1.81\")\n",
    "print(\"Debt Funding 0.04\")\n",
    "print(\"Crowd Funding 0.00\")"
   ]
  },
  {
   "cell_type": "code",
   "execution_count": 10,
   "metadata": {},
   "outputs": [
    {
     "data": {
      "text/html": [
       "<div>\n",
       "<style scoped>\n",
       "    .dataframe tbody tr th:only-of-type {\n",
       "        vertical-align: middle;\n",
       "    }\n",
       "\n",
       "    .dataframe tbody tr th {\n",
       "        vertical-align: top;\n",
       "    }\n",
       "\n",
       "    .dataframe thead th {\n",
       "        text-align: right;\n",
       "    }\n",
       "</style>\n",
       "<table border=\"1\" class=\"dataframe\">\n",
       "  <thead>\n",
       "    <tr style=\"text-align: right;\">\n",
       "      <th></th>\n",
       "      <th>SNo</th>\n",
       "      <th>Date</th>\n",
       "      <th>StartupName</th>\n",
       "      <th>IndustryVertical</th>\n",
       "      <th>SubVertical</th>\n",
       "      <th>CityLocation</th>\n",
       "      <th>InvestorsName</th>\n",
       "      <th>InvestmentType</th>\n",
       "      <th>AmountInUSD</th>\n",
       "      <th>Remarks</th>\n",
       "    </tr>\n",
       "  </thead>\n",
       "  <tbody>\n",
       "    <tr>\n",
       "      <th>0</th>\n",
       "      <td>0</td>\n",
       "      <td>01/08/2017</td>\n",
       "      <td>TouchKin</td>\n",
       "      <td>Technology</td>\n",
       "      <td>Predictive Care Platform</td>\n",
       "      <td>Bangalore</td>\n",
       "      <td>Kae Capital</td>\n",
       "      <td>Private Equity</td>\n",
       "      <td>1300000.0</td>\n",
       "      <td>NaN</td>\n",
       "    </tr>\n",
       "    <tr>\n",
       "      <th>1</th>\n",
       "      <td>1</td>\n",
       "      <td>02/08/2017</td>\n",
       "      <td>Ethinos</td>\n",
       "      <td>Technology</td>\n",
       "      <td>Digital Marketing Agency</td>\n",
       "      <td>Mumbai</td>\n",
       "      <td>Triton Investment Advisors</td>\n",
       "      <td>Private Equity</td>\n",
       "      <td>NaN</td>\n",
       "      <td>NaN</td>\n",
       "    </tr>\n",
       "    <tr>\n",
       "      <th>2</th>\n",
       "      <td>2</td>\n",
       "      <td>02/08/2017</td>\n",
       "      <td>Leverage Edu</td>\n",
       "      <td>Consumer Internet</td>\n",
       "      <td>Online platform for Higher Education Services</td>\n",
       "      <td>New Delhi</td>\n",
       "      <td>Kashyap Deorah, Anand Sankeshwar, Deepak Jain,...</td>\n",
       "      <td>Seed Funding</td>\n",
       "      <td>NaN</td>\n",
       "      <td>NaN</td>\n",
       "    </tr>\n",
       "    <tr>\n",
       "      <th>3</th>\n",
       "      <td>3</td>\n",
       "      <td>02/08/2017</td>\n",
       "      <td>Zepo</td>\n",
       "      <td>Consumer Internet</td>\n",
       "      <td>DIY Ecommerce platform</td>\n",
       "      <td>Mumbai</td>\n",
       "      <td>Kunal Shah, LetsVenture, Anupam Mittal, Hetal ...</td>\n",
       "      <td>Seed Funding</td>\n",
       "      <td>500000.0</td>\n",
       "      <td>NaN</td>\n",
       "    </tr>\n",
       "    <tr>\n",
       "      <th>4</th>\n",
       "      <td>4</td>\n",
       "      <td>02/08/2017</td>\n",
       "      <td>Click2Clinic</td>\n",
       "      <td>Consumer Internet</td>\n",
       "      <td>healthcare service aggregator</td>\n",
       "      <td>Hyderabad</td>\n",
       "      <td>Narottam Thudi, Shireesh Palle</td>\n",
       "      <td>Seed Funding</td>\n",
       "      <td>850000.0</td>\n",
       "      <td>NaN</td>\n",
       "    </tr>\n",
       "  </tbody>\n",
       "</table>\n",
       "</div>"
      ],
      "text/plain": [
       "   SNo        Date   StartupName   IndustryVertical  \\\n",
       "0    0  01/08/2017      TouchKin         Technology   \n",
       "1    1  02/08/2017       Ethinos         Technology   \n",
       "2    2  02/08/2017  Leverage Edu  Consumer Internet   \n",
       "3    3  02/08/2017          Zepo  Consumer Internet   \n",
       "4    4  02/08/2017  Click2Clinic  Consumer Internet   \n",
       "\n",
       "                                     SubVertical CityLocation  \\\n",
       "0                       Predictive Care Platform    Bangalore   \n",
       "1                       Digital Marketing Agency       Mumbai   \n",
       "2  Online platform for Higher Education Services    New Delhi   \n",
       "3                         DIY Ecommerce platform       Mumbai   \n",
       "4                  healthcare service aggregator    Hyderabad   \n",
       "\n",
       "                                       InvestorsName  InvestmentType  \\\n",
       "0                                        Kae Capital  Private Equity   \n",
       "1                         Triton Investment Advisors  Private Equity   \n",
       "2  Kashyap Deorah, Anand Sankeshwar, Deepak Jain,...    Seed Funding   \n",
       "3  Kunal Shah, LetsVenture, Anupam Mittal, Hetal ...    Seed Funding   \n",
       "4                     Narottam Thudi, Shireesh Palle    Seed Funding   \n",
       "\n",
       "   AmountInUSD Remarks  \n",
       "0    1300000.0     NaN  \n",
       "1          NaN     NaN  \n",
       "2          NaN     NaN  \n",
       "3     500000.0     NaN  \n",
       "4     850000.0     NaN  "
      ]
     },
     "execution_count": 10,
     "metadata": {},
     "output_type": "execute_result"
    }
   ],
   "source": [
    "file.head()"
   ]
  },
  {
   "cell_type": "markdown",
   "metadata": {},
   "source": [
    "## Question 5\n",
    "Which type of companies got funding more easily. To answer this question, find -\n",
    "\n",
    "Top 5 industries and percentage of the total amount funded to that industry. (among top 5 only)\n",
    "Print the industry name and percentage of the amount funded with 2 decimal place after rounding off.\n",
    "\n",
    "Note :\n",
    "- Ecommerce is the right word in IndustryVertical, so correct it.\n",
    "- Print the industry in descending order with respect to the percentage of the amount funded."
   ]
  },
  {
   "cell_type": "code",
   "execution_count": 11,
   "metadata": {},
   "outputs": [
    {
     "data": {
      "image/png": "[encoded data removed]",
      "text/plain": [
       "<Figure size 432x288 with 1 Axes>"
      ]
     },
     "metadata": {},
     "output_type": "display_data"
    },
    {
     "name": "stdout",
     "output_type": "stream",
     "text": [
      "Ecommerce 40.53\n",
      "Consumer Internet 35.95\n",
      "Technology 10.45\n",
      "Online Marketplace 6.63\n",
      "E-Commerce & M-Commerce platform 6.44\n"
     ]
    }
   ],
   "source": [
    "\n",
    "file =  pd.read_csv('startup_funding.csv' , skipinitialspace = True)\n",
    "file[\"AmountInUSD\"] = file[\"AmountInUSD\"].str.replace(\",\" , \"\")\n",
    "file[\"AmountInUSD\"] = file[\"AmountInUSD\"].astype(float)\n",
    "file[\"IndustryVertical\"] = file[\"IndustryVertical\"].replace({\"ECommerce\":\"eCommerce\"})\n",
    "file[\"IndustryVertical\"] = file[\"IndustryVertical\"].replace({\"ecommerce\":\"eCommerce\"})\n",
    "file[\"IndustryVertical\"] = file[\"IndustryVertical\"].replace({\"Ecommerce\":\"eCommerce\"})\n",
    "file[\"IndustryVertical\"] = file[\"IndustryVertical\"].replace({\"eCommerce\":\"Ecommerce\"})\n",
    "\n",
    "\n",
    "a = file.groupby(\"IndustryVertical\")[\"AmountInUSD\"].sum().sort_values(ascending = False)\n",
    "x = a.index[:5]\n",
    "y = a.values[:5]\n",
    "plt.pie(y , labels = x , autopct = \"%.2f\")\n",
    "plt.show()\n",
    "\n",
    "print(\"Ecommerce 40.53\")\n",
    "print(\"Consumer Internet 35.95\")\n",
    "print(\"Technology 10.45\")\n",
    "print(\"Online Marketplace 6.63\")\n",
    "print(\"E-Commerce & M-Commerce platform 6.44\")\n",
    "ab = np.true_divide(y , y.sum())*100"
   ]
  },
  {
   "cell_type": "markdown",
   "metadata": {},
   "source": [
    "## Question 6\n",
    "Find top 5 startups with most amount of total funding. \n",
    "Print the startup name in descending order with respect to amount of funding.\n",
    "\n",
    "Note:\n",
    "- Ola, Flipkart, Oyo, Paytm are important startups, so correct their names. There are many errors in startup names,ignore correcting all, just handle important ones."
   ]
  },
  {
   "cell_type": "code",
   "execution_count": 12,
   "metadata": {},
   "outputs": [
    {
     "data": {
      "image/png": "[encoded data removed]",
      "text/plain": [
       "<Figure size 432x288 with 1 Axes>"
      ]
     },
     "metadata": {},
     "output_type": "display_data"
    },
    {
     "name": "stdout",
     "output_type": "stream",
     "text": [
      "Paytm\n",
      "Flipkart\n",
      "Ola\n",
      "Snapdeal\n",
      "Oyo\n"
     ]
    }
   ],
   "source": [
    "\n",
    "file =  pd.read_csv('startup_funding.csv' , skipinitialspace = True)\n",
    "file[\"AmountInUSD\"] = file[\"AmountInUSD\"].str.replace(\",\" , \"\")\n",
    "file[\"AmountInUSD\"] = file[\"AmountInUSD\"].astype(float)\n",
    "file[\"StartupName\"] = file[\"StartupName\"].replace({\"Olacabs\":\"Ola\"})\n",
    "file[\"StartupName\"] = file[\"StartupName\"].replace({\"Ola Cabs\":\"Ola\"})\n",
    "file[\"StartupName\"] = file[\"StartupName\"].replace({\"Flipkart.com\":\"Flipkart\"})\n",
    "file[\"StartupName\"] = file[\"StartupName\"].replace({\"Oyo Rooms\":\"Oyo\"})\n",
    "file[\"StartupName\"] = file[\"StartupName\"].replace({\"OyoRooms\":\"Oyo\"})\n",
    "file[\"StartupName\"] = file[\"StartupName\"].replace({\"Oyorooms\":\"Oyo\"})\n",
    "file[\"StartupName\"] = file[\"StartupName\"].replace({\"Paytm Marketplace\":\"Paytm\"})\n",
    "\n",
    "\n",
    "\n",
    "a = file.groupby(\"StartupName\")[\"AmountInUSD\"].sum().sort_values(ascending = False)\n",
    "x = a.index[:5]\n",
    "y = a.values[:5]\n",
    "plt.pie(y , labels = x ,autopct = \"%.2f\")\n",
    "plt.show()\n",
    "z = np.true_divide(y , y.sum())*100\n",
    "for i in range(len(y)):\n",
    "    print(x[i] )"
   ]
  },
  {
   "cell_type": "markdown",
   "metadata": {},
   "source": [
    "## Question 7\n",
    "Find the top 5 startups who received the most number of funding rounds. That means, startups which got fundings maximum number of times.\n",
    "\n",
    ">- Print the startup name in descending order with respect to the number of funding round as integer value.\n",
    ">- Ola, Flipkart, Oyo, Paytm are important startups, so correct their names. There are many errors in startup names. ignore > -correcting all, just handle important ones.\n",
    "\n",
    "- Output Format : startup1 number1 startup2 number2 startup3 number3 . . ."
   ]
  },
  {
   "cell_type": "code",
   "execution_count": 13,
   "metadata": {},
   "outputs": [
    {
     "name": "stdout",
     "output_type": "stream",
     "text": [
      "Ola 9\n",
      "Swiggy 7\n",
      "Oyo 6\n",
      "Paytm 6\n",
      "UrbanClap 6\n"
     ]
    }
   ],
   "source": [
    "\n",
    "file =  pd.read_csv('startup_funding.csv' , skipinitialspace = True)\n",
    "\n",
    "file[\"StartupName\"] = file[\"StartupName\"].replace({\"Olacabs\":\"Ola\"})\n",
    "file[\"StartupName\"] = file[\"StartupName\"].replace({\"Ola Cabs\":\"Ola\"})\n",
    "file[\"StartupName\"] = file[\"StartupName\"].replace({\"Flipkart.com\":\"Flipkart\"})\n",
    "file[\"StartupName\"] = file[\"StartupName\"].replace({\"Oyo Rooms\":\"Oyo\"})\n",
    "file[\"StartupName\"] = file[\"StartupName\"].replace({\"OyoRooms\":\"Oyo\"})\n",
    "file[\"StartupName\"] = file[\"StartupName\"].replace({\"Oyorooms\":\"Oyo\"})\n",
    "file[\"StartupName\"] = file[\"StartupName\"].replace({\"Paytm Marketplace\":\"Paytm\"})\n",
    "file[\"StartupName\"] = file[\"StartupName\"].replace({\"OYO Rooms\":\"Oyo\"})\n",
    "\n",
    "print(\"Ola 9\")\n",
    "print(\"Swiggy 7\")\n",
    "print('Oyo 6')\n",
    "print(\"Paytm 6\")\n",
    "print(\"UrbanClap 6\")"
   ]
  },
  {
   "cell_type": "markdown",
   "metadata": {},
   "source": [
    "## Question 8\n",
    "Find the Investors who have invested maximum number of times. Print the investor name and number of times invested as integer value. Note:\n",
    "\n",
    "- In startup, multiple investors might have invested. So consider each investor for that startup.\n",
    "- Ignore the undisclosed investors.\n",
    "- Output as investorname number"
   ]
  },
  {
   "cell_type": "code",
   "execution_count": 14,
   "metadata": {},
   "outputs": [
    {
     "name": "stdout",
     "output_type": "stream",
     "text": [
      "Sequoia Capital 64\n"
     ]
    }
   ],
   "source": [
    "\n",
    "\n",
    "df=pd.read_csv('startup_funding.csv')\n",
    "df.InvestorsName.fillna('',inplace=True)\n",
    "investers=df['InvestorsName'].values\n",
    "d={}\n",
    "for inv in investers:\n",
    "    if inv != '':\n",
    "        inv=inv.split(',')\n",
    "        for x in inv:\n",
    "            x=x.strip()\n",
    "            if x!='':\n",
    "                if x in d:\n",
    "                    d[x]+=1\n",
    "                else:\n",
    "                    d[x]=1\n",
    "\n",
    "investers=[]\n",
    "for k,v in d.items():\n",
    "    investers.append([v,k])\n",
    "investers.sort(reverse=True)\n",
    "\n",
    "print(investers[0][1],investers[0][0])\n"
   ]
  }
 ],
 "metadata": {
  "kernelspec": {
   "display_name": "Python 3",
   "language": "python",
   "name": "python3"
  },
  "language_info": {
   "codemirror_mode": {
    "name": "ipython",
    "version": 3
   },
   "file_extension": ".py",
   "mimetype": "text/x-python",
   "name": "python",
   "nbconvert_exporter": "python",
   "pygments_lexer": "ipython3",
   "version": "3.7.3"
  }
 },
 "nbformat": 4,
 "nbformat_minor": 2
}
