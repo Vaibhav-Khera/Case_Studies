{
 "cells": [
  {
   "cell_type": "markdown",
   "metadata": {},
   "source": [
    " # IMDB \n",
    "IMDB.sqlite' database contains all details of movies and has three tables with name IMDB, genre and earning."
   ]
  },
  {
   "cell_type": "markdown",
   "metadata": {},
   "source": [
    "## Q-1.\n",
    "Find the count of each genre present in IMDB movie dataset?\n",
    "- Print the Genre and number of movies present in that genre."
   ]
  },
  {
   "cell_type": "code",
   "execution_count": 1,
   "metadata": {},
   "outputs": [
    {
     "name": "stdout",
     "output_type": "stream",
     "text": [
      "Action 33\n",
      "Adventure 43\n",
      "Animation 13\n",
      "Biography 21\n",
      "Comedy 31\n",
      "Crime 11\n",
      "Drama 77\n",
      "Family 3\n",
      "Fantasy 7\n",
      "History 6\n",
      "Horror 2\n",
      "Music 3\n",
      "Musical 1\n",
      "Mystery 7\n",
      "Romance 13\n",
      "Sci-Fi 18\n",
      "Sport 3\n",
      "Thriller 14\n",
      "War 2\n",
      "Western 2\n"
     ]
    }
   ],
   "source": [
    "import pandas as pd\n",
    "import sqlite3\n",
    "db = sqlite3.connect(\"IMDB.sqlite\")\n",
    "data=pd.read_sql(\"select distinct(genre.genre),count(*) from genre join IMDB on genre.Movie_id = IMDB.Movie_id group by genre \",db)\n",
    "a = data['genre']\n",
    "b = data['count(*)']\n",
    "for i in range(1,len(a)):\n",
    "    print(a[i],b[i])\n"
   ]
  },
  {
   "cell_type": "markdown",
   "metadata": {},
   "source": [
    "## Q-2.\n",
    "Find the highest-grossing movie (i.e domestic earning + worldwide earning) in IMDB database.\n",
    "- Print the rating of that movie."
   ]
  },
  {
   "cell_type": "code",
   "execution_count": 2,
   "metadata": {},
   "outputs": [
    {
     "name": "stdout",
     "output_type": "stream",
     "text": [
      "8.1\n"
     ]
    }
   ],
   "source": [
    "db = sqlite3.connect(\"IMDB.sqlite\")\n",
    "df = pd.read_sql_query(\"select max(Domestic+Worldwide),rating from earning join IMDB on earning.Movie_id = IMDB.Movie_id\",db)\n",
    "a=df['Rating']\n",
    "print(*a)"
   ]
  },
  {
   "cell_type": "markdown",
   "metadata": {},
   "source": [
    "## Q-3.\n",
    "Find the most voted movie in IMDB Movie Database.\n",
    "- Print the movie name and the rating of that movie."
   ]
  },
  {
   "cell_type": "code",
   "execution_count": 3,
   "metadata": {},
   "outputs": [
    {
     "name": "stdout",
     "output_type": "stream",
     "text": [
      "Inception (2010) 8.8\n"
     ]
    }
   ],
   "source": [
    "db = sqlite3.connect(\"IMDB.sqlite\")\n",
    "cur= db.cursor()\n",
    "cur.execute(\"select Title,Rating from IMDB where TotalVotes = 1609713\")\n",
    "a =cur.fetchall()\n",
    "for i in a:\n",
    "    print(*i)"
   ]
  },
  {
   "cell_type": "markdown",
   "metadata": {},
   "source": [
    "## Q-4.\n",
    "Find the Movie with Longest-Running Time from IMDB Movie database.\n",
    "- Print the name of movie and running time as integer value.\n",
    "\n",
    "Note: Don't print 'min' in running time."
   ]
  },
  {
   "cell_type": "code",
   "execution_count": 4,
   "metadata": {},
   "outputs": [
    {
     "name": "stdout",
     "output_type": "stream",
     "text": [
      "The Wolf of Wall Street (2013) 180\n"
     ]
    }
   ],
   "source": [
    "db = sqlite3.connect(\"IMDB.sqlite\")\n",
    "cur = db.cursor()\n",
    "data = pd.read_sql_query('select * from IMDB',db)\n",
    "a =data['Runtime']\n",
    "b=[]\n",
    "c=[]\n",
    "for i in range(len(a)):\n",
    "    b.append(a[i].split(\" \"))\n",
    "    #print(b[i][0])\n",
    "    if b[i][0]=='':\n",
    "        c.append(0)\n",
    "    else:\n",
    "        c.append(int(b[i][0]))\n",
    "data['Rtime']=c\n",
    "data.to_sql(\"IMDB\",db,if_exists = \"replace\")\n",
    "cur.execute(\"select Title,max(Rtime) from IMDB\")\n",
    "a =cur.fetchall()\n",
    "for i in a:\n",
    "    print(*i)"
   ]
  },
  {
   "cell_type": "markdown",
   "metadata": {},
   "source": [
    "## Q-5.\n",
    "Find the movie which has maximum net profit in IMDB Movie Database.\n",
    "- Print the movie name. Note: Net Profit= Total Earning(Domestic+WorldWide earning) - budget"
   ]
  },
  {
   "cell_type": "code",
   "execution_count": 5,
   "metadata": {},
   "outputs": [
    {
     "name": "stdout",
     "output_type": "stream",
     "text": [
      "Star Wars: The Force Awakens (2015)\n"
     ]
    }
   ],
   "source": [
    "\n",
    "db = sqlite3.connect(\"IMDB.sqlite\")\n",
    "df = pd.read_sql_query(\"select max((Domestic+Worldwide)-Budget),Title from earning join IMDB on earning.Movie_id = IMDB.Movie_id\",db)\n",
    "a=df['Title']\n",
    "print(*a)"
   ]
  },
  {
   "cell_type": "markdown",
   "metadata": {},
   "source": [
    "## Q-6.\n",
    "Find the least budgeted movie in IMDB Movie Database.\n",
    "- If there is more than one least budgeted movies then print the movie which has maximum net profit.\n",
    "\n",
    "Note: Net Profit= Total Earning(Domestic+WorldWide earning) - budget"
   ]
  },
  {
   "cell_type": "code",
   "execution_count": 20,
   "metadata": {},
   "outputs": [
    {
     "name": "stdout",
     "output_type": "stream",
     "text": [
      "Detachment (2011)\n"
     ]
    }
   ],
   "source": [
    "\n",
    "db = sqlite3.connect(\"IMDB.sqlite\")\n",
    "df = pd.read_sql_query(\"select min(Budget),Title from earning join IMDB on earning.Movie_id = IMDB.Movie_id\",db)\n",
    "a=df['Title']\n",
    "print(*a)"
   ]
  },
  {
   "cell_type": "markdown",
   "metadata": {},
   "source": [
    "## Q-7.\n",
    "Find the highest-grossing movie (i.e domestic earning + worldwide earning) in IMDB database year wise.\n",
    "- Print the Year and name of the movie which was the highest grosser in that year. Note:Print the year in ascending order."
   ]
  },
  {
   "cell_type": "code",
   "execution_count": 7,
   "metadata": {},
   "outputs": [
    {
     "name": "stdout",
     "output_type": "stream",
     "text": [
      "2010 Toy Story 3 (2010)\n",
      "2011 Rise of the Planet of the Apes (2011)\n",
      "2012 The Avengers (2012)\n",
      "2013 The Hunger Games: Catching Fire (2013)\n",
      "2014 Guardians of the Galaxy (2014)\n",
      "2015 Star Wars: The Force Awakens (2015)\n",
      "2016 Rogue One (2016)\n"
     ]
    }
   ],
   "source": [
    "\n",
    "db = sqlite3.connect(\"IMDB.sqlite\")\n",
    "df = pd.read_sql_query(\"select * from IMDB \",db)\n",
    "a=df['Title']\n",
    "b=[]\n",
    "c=[]\n",
    "for i in range(len(a)):\n",
    "    \n",
    "    if \"\\xa0\" in a[i]:\n",
    "        b.append(a[i].strip(\")\").split(\"\\xa0(\"))\n",
    "    else:\n",
    "        b.append(a[i].strip(\")\").split(\"(\"))\n",
    "    c.append(int(b[i][1]))\n",
    "df[\"Year\"] = c\n",
    "df.to_sql(\"IMDB\",db,if_exists = \"replace\")\n",
    "df=pd.read_sql_query('select Year,Title,max(Domestic+Worldwide) from IMDB join earning on earning.Movie_id = IMDB.Movie_id group by Year order by Year ',db)\n",
    "a = df['Year']\n",
    "b = df['Title']\n",
    "for i in range(len(a)):\n",
    "    print(a[i],b[i])"
   ]
  },
  {
   "cell_type": "markdown",
   "metadata": {},
   "source": [
    "## Q-8.\n",
    "Find out the percentage of the budget for each genre in IMDB Movie Dataset?Plot the pie chart.\n",
    "- Print the genre and percentage of movies budget present in that genre with 2 decimal place after rounding off.\n",
    "\n",
    "Note:\n",
    "\n",
    "- Movies has multiple genres, so calculate the percentage for each genre.\n",
    "- Replace empty budget column to zero."
   ]
  },
  {
   "cell_type": "code",
   "execution_count": 13,
   "metadata": {},
   "outputs": [
    {
     "data": {
      "image/png": "[encoded data removed]",
      "text/plain": [
       "<Figure size 432x288 with 1 Axes>"
      ]
     },
     "metadata": {},
     "output_type": "display_data"
    },
    {
     "name": "stdout",
     "output_type": "stream",
     "text": [
      "Adventure 25.10\n",
      "Action 17.98\n",
      "Drama 10.85\n",
      "Sci-Fi 10.77\n",
      "Animation 7.66\n",
      "Comedy 7.22\n",
      "Fantasy 4.54\n",
      "Thriller 3.99\n",
      "Biography 2.59\n",
      "Mystery 1.95\n",
      "Family 1.91\n",
      "Crime 1.77\n",
      "Romance 1.12\n",
      "History 0.72\n",
      "Western 0.57\n",
      "Sport 0.46\n",
      "War 0.36\n",
      "Musical 0.25\n",
      "Music 0.15\n",
      "Horror 0.03\n"
     ]
    }
   ],
   "source": [
    "\n",
    "df = pd.read_sql_query('select a.Movie_id, Genre, Title, Budget from imdb a inner join genre b on a.Movie_id = b.Movie_id',db)\n",
    "df[['Budget']] = df[['Budget']].apply(pd.to_numeric)\n",
    "df.Budget.fillna(0,inplace = True)\n",
    "# df.head()\n",
    "\n",
    "d = {} # genre : budget\n",
    "for _,row in df.iterrows():\n",
    "    genre = row['genre']\n",
    "    budget = row['Budget']\n",
    "    d[genre] = d.get(genre,0)+budget\n",
    "    \n",
    "d.pop('',None)\n",
    "d = sorted(d.items(), key=lambda x: x[1], reverse=True) # sort by descending order of value\n",
    "# d\n",
    "\n",
    "import matplotlib.pyplot as plt\n",
    "%matplotlib inline\n",
    "counts = [t[1] for t in d]\n",
    "genres = [t[0] for t in d]\n",
    "\n",
    "plt.pie(counts,labels = genres,autopct = '%.2f')\n",
    "plt.show()\n",
    "\n",
    "for i in range(len(d)):\n",
    "    p = round((counts[i]/sum(counts))*100,2)\n",
    "    print(genres[i],'{:.2f}'.format(p)) #to ensure trailing zeroes are printed"
   ]
  },
  {
   "cell_type": "markdown",
   "metadata": {},
   "source": [
    "## Q-9.\n",
    "Find out the percentage of the total earning for each genre in IMDB Movie Dataset\n",
    "\n",
    "- Print the genre and percentage of movies total earning present in that genre with 2 decimal place after rounding off.\n",
    "\n",
    "Note: Movies have multiple genres, so calculate the percentage for each genre.Total Earning=Domestic earning + WorldWide earning."
   ]
  },
  {
   "cell_type": "code",
   "execution_count": 14,
   "metadata": {},
   "outputs": [
    {
     "name": "stdout",
     "output_type": "stream",
     "text": [
      "Action 17.91\n",
      "Adventure 23.57\n",
      "Animation 6.77\n",
      "Biography 3.42\n",
      "Comedy 7.69\n",
      "Crime 1.55\n",
      "Drama 11.96\n",
      "Mystery 2.01\n",
      "Family 1.05\n",
      "Fantasy 5.15\n",
      "History 1.04\n",
      "Horror 0.01\n",
      "Music 0.43\n",
      "Musical 0.38\n",
      "Romance 1.45\n",
      "Sci-Fi 9.95\n",
      "Sport 0.32\n",
      "Thriller 4.42\n",
      "War 0.25\n",
      "Western 0.65\n"
     ]
    }
   ],
   "source": [
    "\n",
    "import pandas as pd\n",
    "import sqlite3\n",
    "import numpy as np\n",
    "db=sqlite3.connect('IMDB.sqlite')\n",
    "imdb=pd.read_sql_query(\"Select * from IMDB\",db)\n",
    "earning=pd.read_sql_query(\"Select * from earning\",db)\n",
    "genre=pd.read_sql_query(\"Select * from genre\",db)\n",
    "movie_id=genre['Movie_id'].value_counts().index\n",
    "genre_array=[]\n",
    "for i in range(len(movie_id)):\n",
    "    single_genre=[]\n",
    "    single=genre[genre['Movie_id']==movie_id[i]]['genre'].values\n",
    "    single_genre.append(movie_id[i])\n",
    "    for i in single:\n",
    "        single_genre.append(i)\n",
    "    genre_array.append(single_genre)\n",
    "new_genre=pd.DataFrame(genre_array,columns=['Movie_id','genre_1','genre_2','genre_3'])\n",
    "result = pd.merge(imdb,new_genre,on='Movie_id')\n",
    "imdb_earning_genre=pd.merge(result,earning,on='Movie_id')\n",
    "imdb_earning_genre['Domestic'].replace('',0,inplace=True)\n",
    "imdb_earning_genre['Worldwide'].replace('',0,inplace=True)\n",
    "imdb_earning_genre['Total Earning']=imdb_earning_genre['Domestic']+imdb_earning_genre['Worldwide']\n",
    "\n",
    "genre_1_name=imdb_earning_genre.groupby('genre_1')['Total Earning'].sum().index\n",
    "genre_1_amount=imdb_earning_genre.groupby('genre_1')['Total Earning'].sum().values\n",
    "genre_2_name=imdb_earning_genre.groupby('genre_2')['Total Earning'].sum().index\n",
    "genre_2_amount=imdb_earning_genre.groupby('genre_2')['Total Earning'].sum().values\n",
    "genre_3_name=imdb_earning_genre.groupby('genre_3')['Total Earning'].sum().index\n",
    "genre_3_amount=imdb_earning_genre.groupby('genre_3')['Total Earning'].sum().values\n",
    "genre_name={}\n",
    "for i in range(len(genre_1_name)):\n",
    "    genre_name[genre_1_name[i]]=genre_1_amount[i]\n",
    "for i in range(len(genre_2_name)):\n",
    "    if genre_2_name[i] in genre_name:\n",
    "        genre_name[genre_2_name[i]]=genre_name.get(genre_2_name[i])+genre_2_amount[i]\n",
    "    else:\n",
    "        genre_name[genre_2_name[i]]=genre_2_amount[i]\n",
    "for i in range(len(genre_3_name)):\n",
    "    if genre_3_name[i] in genre_name:\n",
    "        genre_name[genre_3_name[i]]=genre_name.get(genre_3_name[i])+genre_3_amount[i]\n",
    "    else:\n",
    "        genre_name[genre_3_name[i]]=genre_3_amount[i]\n",
    "del genre_name['']\n",
    "genre_names=np.array(list(genre_name.keys()))\n",
    "genre_amount=np.array(list(genre_name.values()))\n",
    "perAmount=np.true_divide(genre_amount, genre_amount.sum())*100\n",
    "for i in range(len(genre_names)):\n",
    "    print(genre_names[i],format(perAmount[i],'.2f'))"
   ]
  },
  {
   "cell_type": "markdown",
   "metadata": {},
   "source": [
    "## Q-10.\n",
    "Find the movie which has genre of 'Sci-Fi' and 'Mystery' and movie rating is greater or equal to 8 from IMDB Movie Database.\n",
    "- Print the movie name."
   ]
  },
  {
   "cell_type": "code",
   "execution_count": 22,
   "metadata": {},
   "outputs": [
    {
     "name": "stdout",
     "output_type": "stream",
     "text": [
      "Arrival (2016)\n",
      "\n",
      " Must Watch! :)\n"
     ]
    }
   ],
   "source": [
    "df = pd.read_sql_query('select a.Movie_id, Title, Genre, Rating from imdb a inner join genre b on a.Movie_id = b.Movie_id where Rating>=8 and (Genre=\"Sci-Fi\" or Genre = \"Mystery\")',db)\n",
    "d = {} # name: [genres]\n",
    "for _,row in df.iterrows():\n",
    "    name = row['Title']\n",
    "    genre = row['genre']\n",
    "    if name not in d:\n",
    "        d[name] = set()\n",
    "    d[name].add(genre)\n",
    "    \n",
    "for k,v in d.items(): #only those movies that have multiple genres are to be printed\n",
    "    if len(v)==2:\n",
    "        print(k)\n",
    "print(\"\\n\",\"Must Watch! :)\")"
   ]
  }
 ],
 "metadata": {
  "kernelspec": {
   "display_name": "Python 3",
   "language": "python",
   "name": "python3"
  },
  "language_info": {
   "codemirror_mode": {
    "name": "ipython",
    "version": 3
   },
   "file_extension": ".py",
   "mimetype": "text/x-python",
   "name": "python",
   "nbconvert_exporter": "python",
   "pygments_lexer": "ipython3",
   "version": "3.7.3"
  }
 },
 "nbformat": 4,
 "nbformat_minor": 2
}
